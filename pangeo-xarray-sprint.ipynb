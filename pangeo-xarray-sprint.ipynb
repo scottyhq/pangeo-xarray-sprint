{
 "cells": [
  {
   "cell_type": "markdown",
   "metadata": {},
   "source": [
    "# Load multiple COGs into xarray dataset"
   ]
  },
  {
   "cell_type": "code",
   "execution_count": null,
   "metadata": {},
   "outputs": [],
   "source": [
    "import satsearch\n",
    "from satstac import Items\n",
    "import geopandas as gpd\n",
    "import xarray as xr"
   ]
  },
  {
   "cell_type": "code",
   "execution_count": null,
   "metadata": {},
   "outputs": [],
   "source": [
    "gfa = gpd.read_file('aoi.geojson')\n",
    "gfa"
   ]
  },
  {
   "cell_type": "code",
   "execution_count": null,
   "metadata": {},
   "outputs": [],
   "source": [
    "bbox = gfa.bounds.values[0]\n",
    "west, north, east, south = bbox"
   ]
  },
  {
   "cell_type": "code",
   "execution_count": null,
   "metadata": {},
   "outputs": [],
   "source": [
    "properties =  [\"landsat:tier=T1\"] \n",
    "\n",
    "bbox = (west, south, east, north) #(min lon, min lat, max lon, max lat)\n",
    "\n",
    "results = satsearch.Search.search(collection='landsat-8-l1', \n",
    "                        bbox=bbox, \n",
    "                        datetime='2019-07-15/2019-07-31',\n",
    "                        sort=['<datetime'], #earliest scene first\n",
    "                        property=properties)\n",
    "print('%s items' % results.found())"
   ]
  },
  {
   "cell_type": "code",
   "execution_count": null,
   "metadata": {},
   "outputs": [],
   "source": [
    "results.found()"
   ]
  },
  {
   "cell_type": "code",
   "execution_count": null,
   "metadata": {},
   "outputs": [],
   "source": [
    "import holoviews as hv\n",
    "import hvplot.xarray\n",
    "import hvplot.pandas\n",
    "import geoviews as gv"
   ]
  },
  {
   "cell_type": "code",
   "execution_count": null,
   "metadata": {},
   "outputs": [],
   "source": [
    "items = results.items()\n",
    "items.save('items-landsat8.json')\n",
    "items = Items.load('items-landsat8.json')\n",
    "#items.bbox()"
   ]
  },
  {
   "cell_type": "code",
   "execution_count": null,
   "metadata": {},
   "outputs": [],
   "source": [
    "gfl = gpd.read_file('items-landsat8.json')\n",
    "gfl = gfl.sort_values('datetime').reset_index(drop=True)\n",
    "print('records:', len(gfl))\n",
    "gfl.head()"
   ]
  },
  {
   "cell_type": "code",
   "execution_count": null,
   "metadata": {},
   "outputs": [],
   "source": [
    "# Plot search AOI and frames on a map\n",
    "\n",
    "# just keep id for hover tips\n",
    "cols = gfl.loc[:,('id','geometry')]\n",
    "\n",
    "footprints = cols.hvplot(geo=True, line_color='k', alpha=0.1, title='Landsat 8 T1')\n",
    "aoi = gfa.hvplot(geo=True, line_color='b', fill_color=None)\n",
    "tiles = gv.tile_sources.CartoEco.options(width=700, height=500) #.redim.range(Latitude=(45, 50), Longitude=(-126,-120)) \n",
    "labels = gv.tile_sources.StamenLabels.options(level='annotation')\n",
    "tiles * footprints * aoi * labels"
   ]
  },
  {
   "cell_type": "code",
   "execution_count": null,
   "metadata": {},
   "outputs": [],
   "source": [
    "# Print URLS's we'll work with\n",
    "urls = [items[x].asset('nir')['href'] for x in range(4)]"
   ]
  },
  {
   "cell_type": "code",
   "execution_count": null,
   "metadata": {},
   "outputs": [],
   "source": [
    "# Load these into an xarray dataset\n",
    "# NIR band URLS of these 4 images\n",
    "da1 = xr.open_rasterio(urls[0], chunks={'band': 1, 'x': 1024, 'y': 1024})\n",
    "da2 = xr.open_rasterio(urls[1], chunks={'band': 1, 'x': 1024, 'y': 1024})\n",
    "da3 = xr.open_rasterio(urls[2], chunks={'band': 1, 'x': 1024, 'y': 1024})\n",
    "da4 = xr.open_rasterio(urls[3], chunks={'band': 1, 'x': 1024, 'y': 1024})"
   ]
  },
  {
   "cell_type": "code",
   "execution_count": null,
   "metadata": {},
   "outputs": [],
   "source": [
    "# NOTE: per julia signells suggestino, want filename in attributes as well\n",
    "da1.attrs['filename'] = items[0].id\n",
    "da1.attrs['date'] = items[0].date.strftime('%Y-%m-%d')\n",
    "da1"
   ]
  },
  {
   "cell_type": "code",
   "execution_count": null,
   "metadata": {},
   "outputs": [],
   "source": [
    "da2.attrs['filename'] = items[1].id\n",
    "da2.attrs['date'] = items[1].date.strftime('%Y-%m-%d')\n",
    "da2"
   ]
  },
  {
   "cell_type": "code",
   "execution_count": null,
   "metadata": {},
   "outputs": [],
   "source": [
    "da3.attrs['filename'] = items[2].id\n",
    "da3.attrs['date'] = items[2].date.strftime('%Y-%m-%d')\n",
    "da3"
   ]
  },
  {
   "cell_type": "code",
   "execution_count": null,
   "metadata": {},
   "outputs": [],
   "source": [
    "da4.attrs['filename'] = items[3].id\n",
    "da4.attrs['date'] = items[3].date.strftime('%Y-%m-%d')\n",
    "da4"
   ]
  },
  {
   "cell_type": "markdown",
   "metadata": {},
   "source": [
    "### NOTES: \n",
    "\n",
    "* these have the same CRS, but slightly different grids and dimensions"
   ]
  },
  {
   "cell_type": "code",
   "execution_count": null,
   "metadata": {},
   "outputs": [],
   "source": [
    "# Visualize 1\n",
    "da1.hvplot.image(rasterize=True, width=700, height=500, cmap='magma')"
   ]
  },
  {
   "cell_type": "code",
   "execution_count": null,
   "metadata": {},
   "outputs": [],
   "source": [
    "#index = gpd.pd.DatetimeIndex(items.dates(), name='time')\n",
    "datasets = [da1,da2,da3,da4]\n",
    "da = xr.concat(datasets, dim='band')\n",
    "print('Dataset size (Gb): ', da.nbytes/1e9)"
   ]
  },
  {
   "cell_type": "code",
   "execution_count": null,
   "metadata": {},
   "outputs": [],
   "source": [
    "da"
   ]
  },
  {
   "cell_type": "markdown",
   "metadata": {},
   "source": [
    "### NOTES:\n",
    "* stacked data array, expanded coordinates to fit all the images\n",
    "* lost attributes on individual datasets"
   ]
  },
  {
   "cell_type": "code",
   "execution_count": null,
   "metadata": {},
   "outputs": [],
   "source": [
    "# Option 2, create a vrt pointing to urls, open the vrt\n",
    "import os \n",
    "cmd = 'gdalbuildvrt mosaic.vrt /vsicurl/{} /vsicurl/{} /vsicurl/{} /vsicurl/{}'.format(*urls)\n",
    "print(cmd)\n",
    "os.system(cmd)"
   ]
  },
  {
   "cell_type": "code",
   "execution_count": null,
   "metadata": {},
   "outputs": [],
   "source": [
    "!cat mosaic.vrt"
   ]
  },
  {
   "cell_type": "code",
   "execution_count": null,
   "metadata": {},
   "outputs": [],
   "source": [
    "da = xr.open_rasterio('mosaic.vrt')\n",
    "da"
   ]
  },
  {
   "cell_type": "code",
   "execution_count": null,
   "metadata": {},
   "outputs": [],
   "source": [
    "### Notes: mosaicing happens here rather than stacking into a dataset\n"
   ]
  },
  {
   "cell_type": "code",
   "execution_count": null,
   "metadata": {},
   "outputs": [],
   "source": [
    "# Option 2, create a time dimension, each COG goes into a DataSet Variable\n"
   ]
  }
 ],
 "metadata": {
  "kernelspec": {
   "display_name": "Python 3",
   "language": "python",
   "name": "python3"
  },
  "language_info": {
   "codemirror_mode": {
    "name": "ipython",
    "version": 3
   },
   "file_extension": ".py",
   "mimetype": "text/x-python",
   "name": "python",
   "nbconvert_exporter": "python",
   "pygments_lexer": "ipython3",
   "version": "3.7.3"
  }
 },
 "nbformat": 4,
 "nbformat_minor": 4
}
