{
 "cells": [
  {
   "cell_type": "markdown",
   "metadata": {},
   "source": [
    "# Load multiple COGs into xarray dataset"
   ]
  },
  {
   "cell_type": "code",
   "execution_count": null,
   "metadata": {},
   "outputs": [],
   "source": [
    "import satsearch\n",
    "from satstac import Items\n",
    "import geopandas as gpd"
   ]
  },
  {
   "cell_type": "code",
   "execution_count": null,
   "metadata": {},
   "outputs": [],
   "source": [
    "gfa = gpd.read_file('aoi.geojson')\n",
    "gfa"
   ]
  },
  {
   "cell_type": "code",
   "execution_count": null,
   "metadata": {},
   "outputs": [],
   "source": [
    "bbox = gfa.bounds.values[0]\n",
    "west, north, east, south = bbox"
   ]
  },
  {
   "cell_type": "code",
   "execution_count": null,
   "metadata": {},
   "outputs": [],
   "source": [
    "properties =  [\"landsat:tier=T1\"] \n",
    "\n",
    "bbox = (west, south, east, north) #(min lon, min lat, max lon, max lat)\n",
    "\n",
    "results = satsearch.Search.search(collection='landsat-8-l1', \n",
    "                        bbox=bbox, \n",
    "                        datetime='2019-07-15/2019-07-31',\n",
    "                        sort=['<datetime'], #earliest scene first\n",
    "                        property=properties)\n",
    "print('%s items' % results.found())"
   ]
  },
  {
   "cell_type": "code",
   "execution_count": null,
   "metadata": {},
   "outputs": [],
   "source": [
    "results.found()"
   ]
  },
  {
   "cell_type": "code",
   "execution_count": null,
   "metadata": {},
   "outputs": [],
   "source": [
    "import holoviews as hv\n",
    "import hvplot.xarray\n",
    "import hvplot.pandas\n",
    "import geoviews as gv"
   ]
  },
  {
   "cell_type": "code",
   "execution_count": null,
   "metadata": {},
   "outputs": [],
   "source": [
    "items = results.items()\n",
    "items.save('items-landsat8.json')\n",
    "items = Items.load('items-landsat8.json')\n",
    "#items.bbox()"
   ]
  },
  {
   "cell_type": "code",
   "execution_count": null,
   "metadata": {},
   "outputs": [],
   "source": [
    "gfl = gpd.read_file('items-landsat8.json')\n",
    "gfl = gfl.sort_values('datetime').reset_index(drop=True)\n",
    "print('records:', len(gfl))\n",
    "gfl.head()"
   ]
  },
  {
   "cell_type": "code",
   "execution_count": null,
   "metadata": {},
   "outputs": [],
   "source": [
    "# Plot search AOI and frames on a map\n",
    "\n",
    "# just keep id for hover tips\n",
    "cols = gfl.loc[:,('id','geometry')]\n",
    "\n",
    "footprints = cols.hvplot(geo=True, line_color='k', alpha=0.1, title='Landsat 8 T1')\n",
    "aoi = gfa.hvplot(geo=True, line_color='b', fill_color=None)\n",
    "tiles = gv.tile_sources.CartoEco.options(width=700, height=500) #.redim.range(Latitude=(45, 50), Longitude=(-126,-120)) \n",
    "labels = gv.tile_sources.StamenLabels.options(level='annotation')\n",
    "tiles * footprints * aoi * labels"
   ]
  },
  {
   "cell_type": "code",
   "execution_count": null,
   "metadata": {},
   "outputs": [],
   "source": [
    "# Load these into an xarray dataset\n",
    "# URLS of these 4 images\n",
    "da1 = xr.open_rasterio('top.tif')\n",
    "da2 = xr.open_rasterio('bottom.tif')"
   ]
  },
  {
   "cell_type": "code",
   "execution_count": null,
   "metadata": {},
   "outputs": [],
   "source": []
  }
 ],
 "metadata": {
  "kernelspec": {
   "display_name": "Python 3",
   "language": "python",
   "name": "python3"
  },
  "language_info": {
   "codemirror_mode": {
    "name": "ipython",
    "version": 3
   },
   "file_extension": ".py",
   "mimetype": "text/x-python",
   "name": "python",
   "nbconvert_exporter": "python",
   "pygments_lexer": "ipython3",
   "version": "3.7.3"
  }
 },
 "nbformat": 4,
 "nbformat_minor": 4
}
